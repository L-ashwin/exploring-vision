{
 "cells": [
  {
   "cell_type": "code",
   "execution_count": 1,
   "id": "retained-gossip",
   "metadata": {},
   "outputs": [],
   "source": [
    "from tensorflow.compat.v1 import ConfigProto\n",
    "from tensorflow.compat.v1 import InteractiveSession\n",
    "\n",
    "config = ConfigProto()\n",
    "config.gpu_options.allow_growth = True\n",
    "session = InteractiveSession(config=config)"
   ]
  },
  {
   "cell_type": "code",
   "execution_count": 2,
   "id": "manufactured-addition",
   "metadata": {},
   "outputs": [],
   "source": [
    "DATA_DIR  = '/home/l-ashwin/Datasets/cifar-10-batches-py/'\n",
    "UTILS_DIR = '/home/l-ashwin/Datasets/src_data/'\n",
    "\n",
    "import sys\n",
    "sys.path.append(UTILS_DIR)\n",
    "from utils import load_cifar10"
   ]
  },
  {
   "cell_type": "code",
   "execution_count": 3,
   "id": "inside-appendix",
   "metadata": {},
   "outputs": [],
   "source": [
    "import numpy as np\n",
    "import tensorflow as tf"
   ]
  },
  {
   "cell_type": "markdown",
   "id": "secure-protein",
   "metadata": {},
   "source": [
    "# dataset"
   ]
  },
  {
   "cell_type": "code",
   "execution_count": 4,
   "id": "freelance-precipitation",
   "metadata": {},
   "outputs": [],
   "source": [
    "X_train, y_train, X_test, y_test = load_cifar10(DATA_DIR)"
   ]
  },
  {
   "cell_type": "code",
   "execution_count": 5,
   "id": "recreational-egypt",
   "metadata": {},
   "outputs": [
    {
     "name": "stdout",
     "output_type": "stream",
     "text": [
      "(50000, 32, 32, 3) (50000,)\n",
      "(10000, 32, 32, 3) (10000,)\n"
     ]
    }
   ],
   "source": [
    "print(X_train.shape, y_train.shape)\n",
    "print(X_test.shape,  y_test.shape )"
   ]
  },
  {
   "cell_type": "code",
   "execution_count": 6,
   "id": "processed-supplement",
   "metadata": {},
   "outputs": [],
   "source": [
    "train_data = tf.data.Dataset.from_tensor_slices((X_train.astype(np.float16), y_train))\n",
    "test_data  = tf.data.Dataset.from_tensor_slices((X_test.astype(np.float16), y_test))"
   ]
  },
  {
   "cell_type": "code",
   "execution_count": 7,
   "id": "pressing-virgin",
   "metadata": {},
   "outputs": [
    {
     "name": "stdout",
     "output_type": "stream",
     "text": [
      "(32, 32, 3) ()\n"
     ]
    }
   ],
   "source": [
    "xx, yy = next(iter(train_data))\n",
    "print(xx.shape, yy.shape)"
   ]
  },
  {
   "cell_type": "code",
   "execution_count": 8,
   "id": "according-courage",
   "metadata": {},
   "outputs": [],
   "source": [
    "BATCH_SIZE = 32"
   ]
  },
  {
   "cell_type": "code",
   "execution_count": 9,
   "id": "contrary-samba",
   "metadata": {},
   "outputs": [],
   "source": [
    "train_loader = train_data.batch(BATCH_SIZE)\n",
    "test_loader  = test_data.batch(BATCH_SIZE)"
   ]
  },
  {
   "cell_type": "code",
   "execution_count": 10,
   "id": "southeast-turning",
   "metadata": {},
   "outputs": [
    {
     "name": "stdout",
     "output_type": "stream",
     "text": [
      "(32, 32, 32, 3) (32,)\n"
     ]
    }
   ],
   "source": [
    "xx, yy = next(iter(train_loader))\n",
    "print(xx.shape, yy.shape)"
   ]
  },
  {
   "cell_type": "markdown",
   "id": "vital-trinity",
   "metadata": {},
   "source": [
    "# model"
   ]
  },
  {
   "cell_type": "code",
   "execution_count": 11,
   "id": "posted-matrix",
   "metadata": {},
   "outputs": [],
   "source": [
    "base_model = tf.keras.applications.ResNet50(include_top=False, weights='imagenet')\n",
    "base_model.trainable = False"
   ]
  },
  {
   "cell_type": "code",
   "execution_count": 12,
   "id": "similar-bobby",
   "metadata": {},
   "outputs": [],
   "source": [
    "Input  = tf.keras.Input(shape=xx.shape[1:])\n",
    "x      = tf.keras.applications.vgg16.preprocess_input(Input)\n",
    "x      = base_model(x)\n",
    "x      = tf.keras.layers.Flatten()(x)\n",
    "x      = tf.keras.layers.Dense(64, activation='relu')(x)\n",
    "Output = tf.keras.layers.Dense(10)(x)\n",
    "\n",
    "model  = tf.keras.Model(Input, Output)"
   ]
  },
  {
   "cell_type": "code",
   "execution_count": 13,
   "id": "alert-reggae",
   "metadata": {},
   "outputs": [
    {
     "name": "stdout",
     "output_type": "stream",
     "text": [
      "Model: \"model\"\n",
      "_________________________________________________________________\n",
      "Layer (type)                 Output Shape              Param #   \n",
      "=================================================================\n",
      "input_2 (InputLayer)         [(None, 32, 32, 3)]       0         \n",
      "_________________________________________________________________\n",
      "tf.__operators__.getitem (Sl (None, 32, 32, 3)         0         \n",
      "_________________________________________________________________\n",
      "tf.nn.bias_add (TFOpLambda)  (None, 32, 32, 3)         0         \n",
      "_________________________________________________________________\n",
      "resnet50 (Functional)        (None, None, None, 2048)  23587712  \n",
      "_________________________________________________________________\n",
      "flatten (Flatten)            (None, 2048)              0         \n",
      "_________________________________________________________________\n",
      "dense (Dense)                (None, 64)                131136    \n",
      "_________________________________________________________________\n",
      "dense_1 (Dense)              (None, 10)                650       \n",
      "=================================================================\n",
      "Total params: 23,719,498\n",
      "Trainable params: 131,786\n",
      "Non-trainable params: 23,587,712\n",
      "_________________________________________________________________\n"
     ]
    }
   ],
   "source": [
    "model.summary()"
   ]
  },
  {
   "cell_type": "markdown",
   "id": "ignored-charlotte",
   "metadata": {},
   "source": [
    "# train"
   ]
  },
  {
   "cell_type": "code",
   "execution_count": 14,
   "id": "racial-courtesy",
   "metadata": {},
   "outputs": [],
   "source": [
    "model.compile(optimizer = tf.keras.optimizers.Adam(),\n",
    "              loss      = tf.keras.losses.SparseCategoricalCrossentropy(from_logits=True),\n",
    "              metrics   = ['sparse_categorical_accuracy'])"
   ]
  },
  {
   "cell_type": "code",
   "execution_count": 15,
   "id": "based-jerusalem",
   "metadata": {},
   "outputs": [
    {
     "name": "stdout",
     "output_type": "stream",
     "text": [
      "Epoch 1/5\n",
      "1563/1563 [==============================] - 58s 36ms/step - loss: 1.4036 - sparse_categorical_accuracy: 0.5342 - val_loss: 1.0097 - val_sparse_categorical_accuracy: 0.6470\n",
      "Epoch 2/5\n",
      "1563/1563 [==============================] - 55s 35ms/step - loss: 0.9506 - sparse_categorical_accuracy: 0.6662 - val_loss: 0.9860 - val_sparse_categorical_accuracy: 0.6589\n",
      "Epoch 3/5\n",
      "1563/1563 [==============================] - 55s 35ms/step - loss: 0.8606 - sparse_categorical_accuracy: 0.6972 - val_loss: 0.9824 - val_sparse_categorical_accuracy: 0.6653\n",
      "Epoch 4/5\n",
      "1563/1563 [==============================] - 56s 36ms/step - loss: 0.7955 - sparse_categorical_accuracy: 0.7231 - val_loss: 0.9997 - val_sparse_categorical_accuracy: 0.6634\n",
      "Epoch 5/5\n",
      "1563/1563 [==============================] - 55s 35ms/step - loss: 0.7464 - sparse_categorical_accuracy: 0.7394 - val_loss: 1.0228 - val_sparse_categorical_accuracy: 0.6619\n"
     ]
    },
    {
     "data": {
      "text/plain": [
       "<tensorflow.python.keras.callbacks.History at 0x7f1d4c318e80>"
      ]
     },
     "execution_count": 15,
     "metadata": {},
     "output_type": "execute_result"
    }
   ],
   "source": [
    "model.fit(train_loader, validation_data=test_loader, epochs=5)"
   ]
  },
  {
   "cell_type": "code",
   "execution_count": null,
   "id": "stock-maximum",
   "metadata": {},
   "outputs": [],
   "source": []
  }
 ],
 "metadata": {
  "kernelspec": {
   "display_name": "Python 3",
   "language": "python",
   "name": "python3"
  },
  "language_info": {
   "codemirror_mode": {
    "name": "ipython",
    "version": 3
   },
   "file_extension": ".py",
   "mimetype": "text/x-python",
   "name": "python",
   "nbconvert_exporter": "python",
   "pygments_lexer": "ipython3",
   "version": "3.8.8"
  }
 },
 "nbformat": 4,
 "nbformat_minor": 5
}
