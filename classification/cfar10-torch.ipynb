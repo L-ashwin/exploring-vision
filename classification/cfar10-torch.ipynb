{
 "cells": [
  {
   "cell_type": "code",
   "execution_count": 1,
   "id": "extraordinary-glance",
   "metadata": {},
   "outputs": [],
   "source": [
    "DATA_DIR  = '/home/l-ashwin/Datasets/cifar-10-batches-py/'\n",
    "UTILS_DIR = '/home/l-ashwin/Datasets/src_data/'\n",
    "\n",
    "import sys\n",
    "sys.path.append(UTILS_DIR)\n",
    "from utils import load_cifar10"
   ]
  },
  {
   "cell_type": "code",
   "execution_count": 2,
   "id": "compliant-allen",
   "metadata": {},
   "outputs": [],
   "source": [
    "import numpy as np"
   ]
  },
  {
   "cell_type": "code",
   "execution_count": 3,
   "id": "powered-sweet",
   "metadata": {},
   "outputs": [],
   "source": [
    "import torch\n",
    "import torch.nn as nn\n",
    "from torchvision import transforms, models"
   ]
  },
  {
   "cell_type": "markdown",
   "id": "romance-lawsuit",
   "metadata": {},
   "source": [
    "# dataset"
   ]
  },
  {
   "cell_type": "code",
   "execution_count": 4,
   "id": "essential-filter",
   "metadata": {},
   "outputs": [],
   "source": [
    "X_train, y_train, X_test, y_test = load_cifar10(DATA_DIR)"
   ]
  },
  {
   "cell_type": "code",
   "execution_count": 5,
   "id": "homeless-border",
   "metadata": {},
   "outputs": [
    {
     "name": "stdout",
     "output_type": "stream",
     "text": [
      "(50000, 32, 32, 3) (50000,)\n",
      "(10000, 32, 32, 3) (10000,)\n"
     ]
    }
   ],
   "source": [
    "print(X_train.shape, y_train.shape)\n",
    "print(X_test.shape,  y_test.shape )"
   ]
  },
  {
   "cell_type": "code",
   "execution_count": 6,
   "id": "pressed-richmond",
   "metadata": {},
   "outputs": [],
   "source": [
    "class dataset:\n",
    "    def __init__(self, data, target, transform=None):\n",
    "        self.data = data\n",
    "        self.target = target\n",
    "        self.transform = transform\n",
    "    \n",
    "    def __getitem__(self, index):\n",
    "        x = self.data[index]\n",
    "        y = self.target[index]\n",
    "        \n",
    "        if self.transform:\n",
    "            x = self.transform(x)\n",
    "        \n",
    "        return x, y\n",
    "    \n",
    "    def __len__(self):\n",
    "        return len(self.data)"
   ]
  },
  {
   "cell_type": "code",
   "execution_count": 7,
   "id": "limiting-latest",
   "metadata": {},
   "outputs": [],
   "source": [
    "transform = transforms.Compose([\n",
    "    transforms.ToTensor(),\n",
    "    transforms.Normalize(0, 1)\n",
    "])"
   ]
  },
  {
   "cell_type": "code",
   "execution_count": 8,
   "id": "fatty-farming",
   "metadata": {},
   "outputs": [],
   "source": [
    "train_data = dataset(X_train, y_train, transform)\n",
    "test_data  = dataset(X_test , y_test , transform)"
   ]
  },
  {
   "cell_type": "code",
   "execution_count": 9,
   "id": "blond-nashville",
   "metadata": {},
   "outputs": [
    {
     "data": {
      "text/plain": [
       "torch.float32"
      ]
     },
     "execution_count": 9,
     "metadata": {},
     "output_type": "execute_result"
    }
   ],
   "source": [
    "train_data[0][0].dtype"
   ]
  },
  {
   "cell_type": "code",
   "execution_count": 10,
   "id": "fluid-character",
   "metadata": {},
   "outputs": [
    {
     "name": "stdout",
     "output_type": "stream",
     "text": [
      "torch.Size([3, 32, 32]) ()\n"
     ]
    }
   ],
   "source": [
    "xx, yy = next(iter(train_data))\n",
    "print(xx.shape, yy.shape)"
   ]
  },
  {
   "cell_type": "code",
   "execution_count": 11,
   "id": "cardiovascular-doctor",
   "metadata": {},
   "outputs": [],
   "source": [
    "BATCH_SIZE = 32"
   ]
  },
  {
   "cell_type": "code",
   "execution_count": 12,
   "id": "perfect-penalty",
   "metadata": {},
   "outputs": [],
   "source": [
    "train_loader = torch.utils.data.DataLoader(train_data, batch_size=BATCH_SIZE, shuffle=True)\n",
    "test_loader  = torch.utils.data.DataLoader(test_data,  batch_size=BATCH_SIZE)"
   ]
  },
  {
   "cell_type": "code",
   "execution_count": 13,
   "id": "heated-document",
   "metadata": {},
   "outputs": [
    {
     "name": "stdout",
     "output_type": "stream",
     "text": [
      "torch.Size([32, 3, 32, 32]) torch.Size([32])\n"
     ]
    }
   ],
   "source": [
    "xx, yy = next(iter(train_loader))\n",
    "print(xx.shape, yy.shape)"
   ]
  },
  {
   "cell_type": "markdown",
   "id": "alternative-garden",
   "metadata": {},
   "source": [
    "# model"
   ]
  },
  {
   "cell_type": "code",
   "execution_count": 14,
   "id": "after-canal",
   "metadata": {},
   "outputs": [],
   "source": [
    "model = models.resnet50(pretrained=True)\n",
    "model.requires_grad_ = False"
   ]
  },
  {
   "cell_type": "code",
   "execution_count": 15,
   "id": "variable-petroleum",
   "metadata": {},
   "outputs": [],
   "source": [
    "model.fc = nn.Sequential(\n",
    "    nn.Linear(in_features=2048, out_features=64),\n",
    "    nn.ReLU(),\n",
    "    nn.Linear(in_features=64, out_features=10)\n",
    ")\n",
    "model.fc.requires_grad_ = True"
   ]
  },
  {
   "cell_type": "markdown",
   "id": "meaningful-league",
   "metadata": {},
   "source": [
    "# train"
   ]
  },
  {
   "cell_type": "code",
   "execution_count": 16,
   "id": "affected-swiss",
   "metadata": {},
   "outputs": [],
   "source": [
    "device = torch.device(\"cuda:0\" if torch.cuda.is_available() else \"cpu\")"
   ]
  },
  {
   "cell_type": "code",
   "execution_count": 17,
   "id": "peaceful-timer",
   "metadata": {},
   "outputs": [],
   "source": [
    "from torch.optim import Adam\n",
    "\n",
    "\n",
    "criteria = nn.CrossEntropyLoss()\n",
    "optim    = Adam(model.fc.parameters(), lr=1e-3)"
   ]
  },
  {
   "cell_type": "code",
   "execution_count": 24,
   "id": "corresponding-orientation",
   "metadata": {},
   "outputs": [],
   "source": [
    "def fit(model, optim, criteria, train_loader, EPOCHS):\n",
    "    for epoch in range(EPOCHS):\n",
    "        \n",
    "        num_correct, loss_accume = 0, 0\n",
    "        for imgs, labels in train_loader:\n",
    "            imgs, labels = imgs.to(device), labels.to(device)\n",
    "            \n",
    "            model.train()\n",
    "            optim.zero_grad()\n",
    "            \n",
    "            output  = model(imgs)\n",
    "            _, pred = torch.max(output, dim=1)\n",
    "            loss    = criteria(output, labels)\n",
    "            \n",
    "            loss.backward()\n",
    "            optim.step()\n",
    "            \n",
    "            num_correct += sum(labels == pred).cpu().item()\n",
    "            loss_accume += loss.cpu().item()\n",
    "        \n",
    "        print('EPOCH:{epoch} \\t Loss:{loss} \\t Accuracy:{accuracy}'.format(\n",
    "            epoch    = epoch,\n",
    "            loss     = np.round(loss_accume/len(train_loader.dataset), 2),\n",
    "            accuracy = np.round(num_correct/len(train_loader.dataset), 2)\n",
    "        ))"
   ]
  },
  {
   "cell_type": "code",
   "execution_count": 25,
   "id": "moderate-insert",
   "metadata": {},
   "outputs": [
    {
     "name": "stdout",
     "output_type": "stream",
     "text": [
      "EPOCH:0 \t Loss:0.04 \t Accuracy:0.49\n",
      "EPOCH:1 \t Loss:0.04 \t Accuracy:0.5\n",
      "EPOCH:2 \t Loss:0.04 \t Accuracy:0.5\n",
      "EPOCH:3 \t Loss:0.04 \t Accuracy:0.51\n",
      "EPOCH:4 \t Loss:0.04 \t Accuracy:0.51\n"
     ]
    }
   ],
   "source": [
    "fit(model.to(device), optim, criteria, train_loader, 5)"
   ]
  },
  {
   "cell_type": "code",
   "execution_count": null,
   "id": "forward-fetish",
   "metadata": {},
   "outputs": [],
   "source": []
  }
 ],
 "metadata": {
  "kernelspec": {
   "display_name": "Python 3",
   "language": "python",
   "name": "python3"
  },
  "language_info": {
   "codemirror_mode": {
    "name": "ipython",
    "version": 3
   },
   "file_extension": ".py",
   "mimetype": "text/x-python",
   "name": "python",
   "nbconvert_exporter": "python",
   "pygments_lexer": "ipython3",
   "version": "3.8.8"
  }
 },
 "nbformat": 4,
 "nbformat_minor": 5
}
