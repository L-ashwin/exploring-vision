{
 "cells": [
  {
   "cell_type": "code",
   "execution_count": null,
   "id": "affected-input",
   "metadata": {},
   "outputs": [],
   "source": [
    "import os, json\n",
    "\n",
    "import cv2\n",
    "import torch\n",
    "import numpy as np"
   ]
  },
  {
   "cell_type": "code",
   "execution_count": null,
   "id": "enclosed-anthropology",
   "metadata": {},
   "outputs": [],
   "source": [
    "def cv2_imshow(img):\n",
    "    import matplotlib.pyplot as plt\n",
    "    plt.figure(figsize=(10,10))\n",
    "    plt.imshow(cv2.cvtColor(img, cv2.COLOR_BGR2RGB))"
   ]
  },
  {
   "cell_type": "code",
   "execution_count": null,
   "id": "failing-fault",
   "metadata": {},
   "outputs": [],
   "source": [
    "# original_dict : {\n",
    "#     img_name  : {\n",
    "#         'filename'\n",
    "#         'regions' : {\n",
    "#             'id'  : {\n",
    "#                 'shape_attributes' : {\n",
    "#                     'all_points_x'\n",
    "#                     'all_points_y'\n",
    "                    \n",
    "#                 }\n",
    "#             }\n",
    "#         }\n",
    "#     }\n",
    "# }\n",
    "\n",
    "# Required = [\n",
    "#     {\n",
    "#         'file_name'\n",
    "#         'image_id'\n",
    "#         'height'\n",
    "#         'width'\n",
    "#         'annotations' = [\n",
    "#             {\n",
    "#                 'bbox'\n",
    "#                 'bbox_mode'\n",
    "#                 'segmentation'\n",
    "#                 'category_id'\n",
    "#             }\n",
    "#         ]\n",
    "#     }\n",
    "# ]"
   ]
  },
  {
   "cell_type": "code",
   "execution_count": null,
   "id": "saved-weapon",
   "metadata": {},
   "outputs": [],
   "source": [
    "from detectron2.structures import BoxMode"
   ]
  },
  {
   "cell_type": "code",
   "execution_count": null,
   "id": "roman-motivation",
   "metadata": {},
   "outputs": [],
   "source": [
    "def get_balloon_dicts(IMG_DIR):\n",
    "    with open(os.path.join(IMG_DIR, 'via_region_data.json')) as file:\n",
    "        original_dict = json.load(file)\n",
    "    \n",
    "    dataset = []\n",
    "    # loop over images\n",
    "    for idx, blob in enumerate(original_dict.values()):\n",
    "\n",
    "        filename      = os.path.join(IMG_DIR, blob['filename'])\n",
    "        height, width = cv2.imread(filename).shape[:2]\n",
    "\n",
    "        regions = blob['regions']\n",
    "        objects = []\n",
    "        # loop over objects in an image\n",
    "        for _, anno in regions.items():\n",
    "            anno = anno[\"shape_attributes\"]\n",
    "            px   = anno[\"all_points_x\"]\n",
    "            py   = anno[\"all_points_y\"]\n",
    "            poly = [(x + 0.5, y + 0.5) for x, y in zip(px, py)]\n",
    "            poly = [p for li in poly for p in li]\n",
    "\n",
    "            obj = {\n",
    "                    \"bbox\": [np.min(px), np.min(py), np.max(px), np.max(py)],\n",
    "                    \"bbox_mode\": BoxMode.XYXY_ABS,\n",
    "                    \"segmentation\": [poly],\n",
    "                    \"category_id\": 0,\n",
    "                }\n",
    "            objects.append(obj)\n",
    "\n",
    "        record = dict(\n",
    "            file_name   = filename,\n",
    "            image_id    = idx,\n",
    "            height      = height,\n",
    "            width       = width,\n",
    "            annotations = objects\n",
    "\n",
    "        )\n",
    "        dataset.append(record)\n",
    "    return dataset"
   ]
  },
  {
   "cell_type": "code",
   "execution_count": null,
   "id": "reduced-reconstruction",
   "metadata": {},
   "outputs": [],
   "source": [
    "DIR = '/home/l-ashwin/Datasets/balloon_dataset/balloon/'"
   ]
  },
  {
   "cell_type": "code",
   "execution_count": null,
   "id": "brave-triangle",
   "metadata": {},
   "outputs": [],
   "source": [
    "from detectron2.data import DatasetCatalog, MetadataCatalog"
   ]
  },
  {
   "cell_type": "code",
   "execution_count": null,
   "id": "reasonable-soviet",
   "metadata": {},
   "outputs": [],
   "source": [
    "for cat in ['train', 'val']:\n",
    "    func = lambda x=cat:get_balloon_dicts(os.path.join(DIR, x))\n",
    "    DatasetCatalog.register(f'balloon_{cat}', func)\n",
    "    MetadataCatalog.get(f'balloon_{cat}').set(thing_classes=[\"balloon\"])"
   ]
  },
  {
   "cell_type": "code",
   "execution_count": null,
   "id": "nasty-doctor",
   "metadata": {},
   "outputs": [],
   "source": [
    "balloon_metadata = MetadataCatalog.get('balloon_train')\n",
    "balloon_metadata"
   ]
  },
  {
   "cell_type": "code",
   "execution_count": null,
   "id": "environmental-artist",
   "metadata": {},
   "outputs": [],
   "source": [
    "DatasetCatalog"
   ]
  },
  {
   "cell_type": "code",
   "execution_count": null,
   "id": "correct-premium",
   "metadata": {},
   "outputs": [],
   "source": [
    "# for cat in ['train', 'val']:\n",
    "#     DatasetCatalog.remove(f'balloon_{cat}')\n",
    "#     MetadataCatalog.remove(f'balloon_{cat}')"
   ]
  },
  {
   "cell_type": "code",
   "execution_count": null,
   "id": "southern-intention",
   "metadata": {},
   "outputs": [],
   "source": [
    "dataset_train = get_balloon_dicts(os.path.join(DIR, 'train'))"
   ]
  },
  {
   "cell_type": "code",
   "execution_count": null,
   "id": "polyphonic-relationship",
   "metadata": {},
   "outputs": [],
   "source": [
    "record = np.random.choice(dataset_train)\n",
    "img = cv2.imread(record['file_name'])"
   ]
  },
  {
   "cell_type": "code",
   "execution_count": null,
   "id": "broad-wheat",
   "metadata": {},
   "outputs": [],
   "source": [
    "cv2_imshow(img)"
   ]
  },
  {
   "cell_type": "code",
   "execution_count": null,
   "id": "heated-logan",
   "metadata": {},
   "outputs": [],
   "source": [
    "from detectron2.utils.visualizer import Visualizer"
   ]
  },
  {
   "cell_type": "code",
   "execution_count": null,
   "id": "appropriate-series",
   "metadata": {},
   "outputs": [],
   "source": [
    "visualizer = Visualizer(img[:,:,::-1], metadata=balloon_metadata)\n",
    "out        = visualizer.draw_dataset_dict(record).get_image()[:,:,::-1]"
   ]
  },
  {
   "cell_type": "code",
   "execution_count": null,
   "id": "martial-appointment",
   "metadata": {},
   "outputs": [],
   "source": [
    "cv2_imshow(out)"
   ]
  },
  {
   "cell_type": "code",
   "execution_count": null,
   "id": "worse-checklist",
   "metadata": {},
   "outputs": [],
   "source": [
    "from detectron2.engine import DefaultTrainer\n",
    "from detectron2.config import get_cfg\n",
    "from detectron2 import model_zoo"
   ]
  },
  {
   "cell_type": "code",
   "execution_count": null,
   "id": "material-boston",
   "metadata": {},
   "outputs": [],
   "source": [
    "cfg = get_cfg()\n",
    "cfg.merge_from_file(model_zoo.get_config_file(\n",
    "    \"COCO-InstanceSegmentation/mask_rcnn_R_50_FPN_3x.yaml\"))"
   ]
  },
  {
   "cell_type": "code",
   "execution_count": null,
   "id": "lightweight-provincial",
   "metadata": {},
   "outputs": [],
   "source": [
    "cfg.DATASETS.TRAIN = (\"balloon_train\",)\n",
    "cfg.DATASETS.TEST = ()\n",
    "cfg.DATALOADER.NUM_WORKERS = 2"
   ]
  },
  {
   "cell_type": "code",
   "execution_count": null,
   "id": "asian-pharmaceutical",
   "metadata": {},
   "outputs": [],
   "source": [
    "cfg.MODEL.WEIGHTS = model_zoo.get_checkpoint_url(\n",
    "    \"COCO-InstanceSegmentation/mask_rcnn_R_50_FPN_3x.yaml\")"
   ]
  },
  {
   "cell_type": "code",
   "execution_count": null,
   "id": "minimal-alexander",
   "metadata": {},
   "outputs": [],
   "source": [
    "cfg.SOLVER.IMS_PER_BATCH = 2\n",
    "cfg.SOLVER.BASE_LR = 0.00025 \n",
    "cfg.SOLVER.MAX_ITER = 300    \n",
    "cfg.SOLVER.STEPS = [] "
   ]
  },
  {
   "cell_type": "code",
   "execution_count": null,
   "id": "seasonal-input",
   "metadata": {},
   "outputs": [],
   "source": [
    "cfg.MODEL.ROI_HEADS.BATCH_SIZE_PER_IMAGE = 128   \n",
    "cfg.MODEL.ROI_HEADS.NUM_CLASSES = 1  "
   ]
  },
  {
   "cell_type": "code",
   "execution_count": null,
   "id": "exempt-despite",
   "metadata": {},
   "outputs": [],
   "source": [
    "os.makedirs(cfg.OUTPUT_DIR, exist_ok=True)\n",
    "trainer = DefaultTrainer(cfg) \n",
    "trainer.resume_or_load(resume=False)\n",
    "trainer.train()"
   ]
  },
  {
   "cell_type": "code",
   "execution_count": null,
   "id": "systematic-attitude",
   "metadata": {},
   "outputs": [],
   "source": []
  }
 ],
 "metadata": {
  "kernelspec": {
   "display_name": "Python 3",
   "language": "python",
   "name": "python3"
  },
  "language_info": {
   "codemirror_mode": {
    "name": "ipython",
    "version": 3
   },
   "file_extension": ".py",
   "mimetype": "text/x-python",
   "name": "python",
   "nbconvert_exporter": "python",
   "pygments_lexer": "ipython3",
   "version": "3.8.8"
  }
 },
 "nbformat": 4,
 "nbformat_minor": 5
}
