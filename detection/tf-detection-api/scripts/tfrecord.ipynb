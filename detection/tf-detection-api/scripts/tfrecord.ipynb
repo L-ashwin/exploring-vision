{
 "cells": [
  {
   "cell_type": "code",
   "execution_count": 1,
   "metadata": {},
   "outputs": [],
   "source": [
    "%config Completer.use_jedi = False"
   ]
  },
  {
   "cell_type": "markdown",
   "metadata": {},
   "source": [
    "# To get csv from xmls"
   ]
  },
  {
   "cell_type": "code",
   "execution_count": 2,
   "metadata": {},
   "outputs": [
    {
     "data": {
      "text/html": [
       "<div>\n",
       "<style scoped>\n",
       "    .dataframe tbody tr th:only-of-type {\n",
       "        vertical-align: middle;\n",
       "    }\n",
       "\n",
       "    .dataframe tbody tr th {\n",
       "        vertical-align: top;\n",
       "    }\n",
       "\n",
       "    .dataframe thead th {\n",
       "        text-align: right;\n",
       "    }\n",
       "</style>\n",
       "<table border=\"1\" class=\"dataframe\">\n",
       "  <thead>\n",
       "    <tr style=\"text-align: right;\">\n",
       "      <th></th>\n",
       "      <th>imgname</th>\n",
       "      <th>width</th>\n",
       "      <th>height</th>\n",
       "      <th>class</th>\n",
       "      <th>xmin</th>\n",
       "      <th>xmax</th>\n",
       "      <th>ymin</th>\n",
       "      <th>ymax</th>\n",
       "    </tr>\n",
       "  </thead>\n",
       "  <tbody>\n",
       "    <tr>\n",
       "      <th>0</th>\n",
       "      <td>1-200102094256105_png.rf.d2ed0c139e4e35ee8889a...</td>\n",
       "      <td>739</td>\n",
       "      <td>647</td>\n",
       "      <td>mask</td>\n",
       "      <td>196</td>\n",
       "      <td>581</td>\n",
       "      <td>55</td>\n",
       "      <td>471</td>\n",
       "    </tr>\n",
       "    <tr>\n",
       "      <th>1</th>\n",
       "      <td>135e-huxwryw6451820_jpg.rf.7119d8f128c2493e334...</td>\n",
       "      <td>581</td>\n",
       "      <td>848</td>\n",
       "      <td>mask</td>\n",
       "      <td>47</td>\n",
       "      <td>519</td>\n",
       "      <td>14</td>\n",
       "      <td>662</td>\n",
       "    </tr>\n",
       "  </tbody>\n",
       "</table>\n",
       "</div>"
      ],
      "text/plain": [
       "                                             imgname width height class xmin  \\\n",
       "0  1-200102094256105_png.rf.d2ed0c139e4e35ee8889a...   739    647  mask  196   \n",
       "1  135e-huxwryw6451820_jpg.rf.7119d8f128c2493e334...   581    848  mask   47   \n",
       "\n",
       "  xmax ymin ymax  \n",
       "0  581   55  471  \n",
       "1  519   14  662  "
      ]
     },
     "execution_count": 2,
     "metadata": {},
     "output_type": "execute_result"
    }
   ],
   "source": [
    "from preProcessing.utility import get_object_csv_from_xmls\n",
    "DIR = '/home/l-ashwin/Datasets/mask_nomask/dummy/'\n",
    "get_object_csv_from_xmls(DIR).head(2)"
   ]
  },
  {
   "cell_type": "markdown",
   "metadata": {},
   "source": [
    "# CSV to tfrecord"
   ]
  },
  {
   "cell_type": "code",
   "execution_count": 3,
   "metadata": {},
   "outputs": [],
   "source": [
    "import os\n",
    "import pandas as pd\n",
    "import tensorflow.compat.v1 as tf"
   ]
  },
  {
   "cell_type": "code",
   "execution_count": 4,
   "metadata": {},
   "outputs": [],
   "source": [
    "# helper functions from tensorflow tutorial\n",
    "from preProcessing.generate_tfrecord import split, create_tf_example\n",
    "from object_detection.utils import label_map_util"
   ]
  },
  {
   "cell_type": "code",
   "execution_count": 5,
   "metadata": {},
   "outputs": [],
   "source": [
    "DATA_DIR = '/home/l-ashwin/Datasets/mask_nomask/'\n",
    "path_to_class_map = '/home/l-ashwin/Datasets/mask_nomask/labelmap.pbtxt'"
   ]
  },
  {
   "cell_type": "code",
   "execution_count": 6,
   "metadata": {},
   "outputs": [],
   "source": [
    "label_map = label_map_util.load_labelmap(path_to_class_map)\n",
    "label_map_dict = label_map_util.get_label_map_dict(label_map)"
   ]
  },
  {
   "cell_type": "code",
   "execution_count": 7,
   "metadata": {},
   "outputs": [],
   "source": [
    "def class_text_to_int(row_label):\n",
    "    return label_map_dict[row_label]"
   ]
  },
  {
   "cell_type": "code",
   "execution_count": 8,
   "metadata": {},
   "outputs": [],
   "source": [
    "def write_tfrecord(path_to_imgs, path_to_csv, path_to_ouput_record):\n",
    "    \n",
    "    examples = pd.read_csv(path_to_csv)\n",
    "    grouped  = split(examples, group='filename')\n",
    "    writer   = tf.python_io.TFRecordWriter(path_to_ouput_record)\n",
    "    \n",
    "    for group in grouped:\n",
    "        tf_example = create_tf_example(group, path_to_imgs, class_text_to_int)\n",
    "        writer.write(tf_example.SerializeToString())\n",
    "    writer.close()\n",
    "    \n",
    "    print('Successfully created the TFRecord file: {}'.format(path_to_ouput_record))"
   ]
  },
  {
   "cell_type": "code",
   "execution_count": 9,
   "metadata": {},
   "outputs": [
    {
     "name": "stdout",
     "output_type": "stream",
     "text": [
      "Successfully created the TFRecord file: ./data/train/train.record\n",
      "Successfully created the TFRecord file: ./data/valid/valid.record\n",
      "Successfully created the TFRecord file: ./data/test/test.record\n"
     ]
    }
   ],
   "source": [
    "for kind in ['train', 'valid', 'test']:\n",
    "    \n",
    "    imgs_path    = os.path.join(DATA_DIR, kind)\n",
    "    csv_path     = os.path.join(DATA_DIR, kind, '_annotations.csv')\n",
    "    ouput_record = os.path.join('./data', kind, f'{kind}.record')\n",
    "    \n",
    "    write_tfrecord(imgs_path, csv_path, ouput_record)"
   ]
  },
  {
   "cell_type": "code",
   "execution_count": null,
   "metadata": {},
   "outputs": [],
   "source": []
  }
 ],
 "metadata": {
  "kernelspec": {
   "display_name": "tf2-det-api",
   "language": "python",
   "name": "tf2-det-api"
  },
  "language_info": {
   "codemirror_mode": {
    "name": "ipython",
    "version": 3
   },
   "file_extension": ".py",
   "mimetype": "text/x-python",
   "name": "python",
   "nbconvert_exporter": "python",
   "pygments_lexer": "ipython3",
   "version": "3.8.8"
  }
 },
 "nbformat": 4,
 "nbformat_minor": 4
}
